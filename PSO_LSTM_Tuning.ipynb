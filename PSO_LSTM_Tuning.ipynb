{
 "cells": [
  {
   "cell_type": "code",
   "execution_count": 189,
   "id": "ee43eb74",
   "metadata": {},
   "outputs": [],
   "source": [
    "import os\n",
    "import time\n",
    "\n",
    "import matplotlib\n",
    "import matplotlib.pyplot as plt\n",
    "import matplotlib.style as style\n",
    "import numpy as np\n",
    "import pandas as pd\n",
    "import pyswarms as ps\n",
    "import tensorflow as tf\n",
    "from keras import optimizers\n",
    "from keras.layers import Dense\n",
    "from keras.layers import LSTM\n",
    "from keras.models import Sequential\n",
    "from pyswarms.utils.plotters import plot_cost_history\n",
    "from sklearn.metrics import r2_score, mean_squared_error, mean_absolute_error\n",
    "from sklearn.model_selection import train_test_split\n",
    "from sklearn.preprocessing import StandardScaler\n"
   ]
  },
  {
   "cell_type": "code",
   "execution_count": 190,
   "id": "c6c7198d",
   "metadata": {},
   "outputs": [],
   "source": [
    "matplotlib.style.use('ggplot')\n",
    "plt.rcParams['font.sans-serif'] = ['SimHei']  # 显示中文标签\n",
    "plt.rcParams['axes.unicode_minus'] = False\n",
    "plt.rcParams['xtick.direction'] = 'in'  # 将x周的刻度线方向设置向内\n",
    "plt.rcParams['ytick.direction'] = 'in'  # 将y轴的刻度方向设置向内"
   ]
  },
  {
   "cell_type": "code",
   "execution_count": 191,
   "id": "552e1851",
   "metadata": {},
   "outputs": [],
   "source": [
    "config = tf.compat.v1.ConfigProto()\n",
    "config.gpu_options.allow_growth = True\n",
    "session = tf.compat.v1.Session(config=config)\n"
   ]
  },
  {
   "cell_type": "code",
   "execution_count": 192,
   "id": "532847b5",
   "metadata": {},
   "outputs": [],
   "source": [
    "# load dataset\n",
    "df = pd.read_excel(\"202106有機自動加藥數據統計(新).xlsx\" , header=0, index_col=0)\n",
    "df = df[[ '銅在線濃度(mg/L)','OOO','pH','ph槽ORP','NaS_ORP','NaS','FeSO4']]"
   ]
  },
  {
   "cell_type": "code",
   "execution_count": 193,
   "id": "5f6329f1",
   "metadata": {},
   "outputs": [
    {
     "data": {
      "text/html": [
       "<div>\n",
       "<style scoped>\n",
       "    .dataframe tbody tr th:only-of-type {\n",
       "        vertical-align: middle;\n",
       "    }\n",
       "\n",
       "    .dataframe tbody tr th {\n",
       "        vertical-align: top;\n",
       "    }\n",
       "\n",
       "    .dataframe thead th {\n",
       "        text-align: right;\n",
       "    }\n",
       "</style>\n",
       "<table border=\"1\" class=\"dataframe\">\n",
       "  <thead>\n",
       "    <tr style=\"text-align: right;\">\n",
       "      <th></th>\n",
       "      <th>銅在線濃度(mg/L)</th>\n",
       "      <th>OOO</th>\n",
       "      <th>pH</th>\n",
       "      <th>ph槽ORP</th>\n",
       "      <th>NaS_ORP</th>\n",
       "      <th>NaS</th>\n",
       "      <th>FeSO4</th>\n",
       "    </tr>\n",
       "    <tr>\n",
       "      <th>時間</th>\n",
       "      <th></th>\n",
       "      <th></th>\n",
       "      <th></th>\n",
       "      <th></th>\n",
       "      <th></th>\n",
       "      <th></th>\n",
       "      <th></th>\n",
       "    </tr>\n",
       "  </thead>\n",
       "  <tbody>\n",
       "    <tr>\n",
       "      <th>2021-06-01 18:10:00.000</th>\n",
       "      <td>7.070000</td>\n",
       "      <td>8017.94</td>\n",
       "      <td>7.49</td>\n",
       "      <td>7.52</td>\n",
       "      <td>-476</td>\n",
       "      <td>9.595294</td>\n",
       "      <td>96.984951</td>\n",
       "    </tr>\n",
       "    <tr>\n",
       "      <th>2021-06-01 18:38:32.781</th>\n",
       "      <td>7.093792</td>\n",
       "      <td>7769.10</td>\n",
       "      <td>7.49</td>\n",
       "      <td>7.52</td>\n",
       "      <td>-476</td>\n",
       "      <td>9.609958</td>\n",
       "      <td>97.096244</td>\n",
       "    </tr>\n",
       "    <tr>\n",
       "      <th>2021-06-01 18:38:36.790</th>\n",
       "      <td>7.093847</td>\n",
       "      <td>7769.10</td>\n",
       "      <td>7.48</td>\n",
       "      <td>7.52</td>\n",
       "      <td>-476</td>\n",
       "      <td>9.620155</td>\n",
       "      <td>97.090278</td>\n",
       "    </tr>\n",
       "    <tr>\n",
       "      <th>2021-06-01 18:59:10.120</th>\n",
       "      <td>7.110972</td>\n",
       "      <td>7832.75</td>\n",
       "      <td>7.48</td>\n",
       "      <td>7.52</td>\n",
       "      <td>-476</td>\n",
       "      <td>9.630800</td>\n",
       "      <td>97.170735</td>\n",
       "    </tr>\n",
       "    <tr>\n",
       "      <th>2021-06-01 18:59:12.117</th>\n",
       "      <td>7.111000</td>\n",
       "      <td>7838.54</td>\n",
       "      <td>7.48</td>\n",
       "      <td>7.52</td>\n",
       "      <td>-476</td>\n",
       "      <td>9.630817</td>\n",
       "      <td>97.170866</td>\n",
       "    </tr>\n",
       "    <tr>\n",
       "      <th>...</th>\n",
       "      <td>...</td>\n",
       "      <td>...</td>\n",
       "      <td>...</td>\n",
       "      <td>...</td>\n",
       "      <td>...</td>\n",
       "      <td>...</td>\n",
       "      <td>...</td>\n",
       "    </tr>\n",
       "    <tr>\n",
       "      <th>2021-06-30 19:50:20.596</th>\n",
       "      <td>9.759152</td>\n",
       "      <td>7624.42</td>\n",
       "      <td>7.96</td>\n",
       "      <td>5.21</td>\n",
       "      <td>-156</td>\n",
       "      <td>10.958985</td>\n",
       "      <td>117.887106</td>\n",
       "    </tr>\n",
       "    <tr>\n",
       "      <th>2021-06-30 20:23:47.670</th>\n",
       "      <td>9.638594</td>\n",
       "      <td>7960.07</td>\n",
       "      <td>7.96</td>\n",
       "      <td>5.21</td>\n",
       "      <td>-156</td>\n",
       "      <td>10.857909</td>\n",
       "      <td>116.696064</td>\n",
       "    </tr>\n",
       "    <tr>\n",
       "      <th>2021-06-30 20:25:01.661</th>\n",
       "      <td>9.634149</td>\n",
       "      <td>7960.07</td>\n",
       "      <td>7.96</td>\n",
       "      <td>5.21</td>\n",
       "      <td>-24</td>\n",
       "      <td>10.854213</td>\n",
       "      <td>116.652627</td>\n",
       "    </tr>\n",
       "    <tr>\n",
       "      <th>2021-06-30 21:30:00.000</th>\n",
       "      <td>9.400000</td>\n",
       "      <td>7960.07</td>\n",
       "      <td>7.96</td>\n",
       "      <td>5.21</td>\n",
       "      <td>-24</td>\n",
       "      <td>10.662569</td>\n",
       "      <td>114.412608</td>\n",
       "    </tr>\n",
       "    <tr>\n",
       "      <th>2021-06-30 23:00:00.000</th>\n",
       "      <td>9.800000</td>\n",
       "      <td>7960.07</td>\n",
       "      <td>7.96</td>\n",
       "      <td>5.21</td>\n",
       "      <td>-24</td>\n",
       "      <td>10.993587</td>\n",
       "      <td>118.296328</td>\n",
       "    </tr>\n",
       "  </tbody>\n",
       "</table>\n",
       "<p>1370 rows × 7 columns</p>\n",
       "</div>"
      ],
      "text/plain": [
       "                         銅在線濃度(mg/L)      OOO    pH  ph槽ORP  NaS_ORP  \\\n",
       "時間                                                                     \n",
       "2021-06-01 18:10:00.000     7.070000  8017.94  7.49    7.52     -476   \n",
       "2021-06-01 18:38:32.781     7.093792  7769.10  7.49    7.52     -476   \n",
       "2021-06-01 18:38:36.790     7.093847  7769.10  7.48    7.52     -476   \n",
       "2021-06-01 18:59:10.120     7.110972  7832.75  7.48    7.52     -476   \n",
       "2021-06-01 18:59:12.117     7.111000  7838.54  7.48    7.52     -476   \n",
       "...                              ...      ...   ...     ...      ...   \n",
       "2021-06-30 19:50:20.596     9.759152  7624.42  7.96    5.21     -156   \n",
       "2021-06-30 20:23:47.670     9.638594  7960.07  7.96    5.21     -156   \n",
       "2021-06-30 20:25:01.661     9.634149  7960.07  7.96    5.21      -24   \n",
       "2021-06-30 21:30:00.000     9.400000  7960.07  7.96    5.21      -24   \n",
       "2021-06-30 23:00:00.000     9.800000  7960.07  7.96    5.21      -24   \n",
       "\n",
       "                               NaS       FeSO4  \n",
       "時間                                              \n",
       "2021-06-01 18:10:00.000   9.595294   96.984951  \n",
       "2021-06-01 18:38:32.781   9.609958   97.096244  \n",
       "2021-06-01 18:38:36.790   9.620155   97.090278  \n",
       "2021-06-01 18:59:10.120   9.630800   97.170735  \n",
       "2021-06-01 18:59:12.117   9.630817   97.170866  \n",
       "...                            ...         ...  \n",
       "2021-06-30 19:50:20.596  10.958985  117.887106  \n",
       "2021-06-30 20:23:47.670  10.857909  116.696064  \n",
       "2021-06-30 20:25:01.661  10.854213  116.652627  \n",
       "2021-06-30 21:30:00.000  10.662569  114.412608  \n",
       "2021-06-30 23:00:00.000  10.993587  118.296328  \n",
       "\n",
       "[1370 rows x 7 columns]"
      ]
     },
     "execution_count": 193,
     "metadata": {},
     "output_type": "execute_result"
    }
   ],
   "source": [
    "df"
   ]
  },
  {
   "cell_type": "code",
   "execution_count": 194,
   "id": "f2a0fdef",
   "metadata": {},
   "outputs": [],
   "source": [
    "Y = df.iloc[:, 0]"
   ]
  },
  {
   "cell_type": "code",
   "execution_count": 195,
   "id": "3aea1a6c",
   "metadata": {},
   "outputs": [
    {
     "data": {
      "text/plain": [
       "時間\n",
       "2021-06-01 18:10:00.000    7.070000\n",
       "2021-06-01 18:38:32.781    7.093792\n",
       "2021-06-01 18:38:36.790    7.093847\n",
       "2021-06-01 18:59:10.120    7.110972\n",
       "2021-06-01 18:59:12.117    7.111000\n",
       "                             ...   \n",
       "2021-06-30 19:50:20.596    9.759152\n",
       "2021-06-30 20:23:47.670    9.638594\n",
       "2021-06-30 20:25:01.661    9.634149\n",
       "2021-06-30 21:30:00.000    9.400000\n",
       "2021-06-30 23:00:00.000    9.800000\n",
       "Name: 銅在線濃度(mg/L), Length: 1370, dtype: float64"
      ]
     },
     "execution_count": 195,
     "metadata": {},
     "output_type": "execute_result"
    }
   ],
   "source": [
    "Y"
   ]
  },
  {
   "cell_type": "code",
   "execution_count": 196,
   "id": "f4e6e437",
   "metadata": {},
   "outputs": [],
   "source": [
    "X =  df[['OOO','pH','ph槽ORP','NaS_ORP','NaS','FeSO4']]"
   ]
  },
  {
   "cell_type": "code",
   "execution_count": 197,
   "id": "7260e725",
   "metadata": {},
   "outputs": [
    {
     "data": {
      "text/html": [
       "<div>\n",
       "<style scoped>\n",
       "    .dataframe tbody tr th:only-of-type {\n",
       "        vertical-align: middle;\n",
       "    }\n",
       "\n",
       "    .dataframe tbody tr th {\n",
       "        vertical-align: top;\n",
       "    }\n",
       "\n",
       "    .dataframe thead th {\n",
       "        text-align: right;\n",
       "    }\n",
       "</style>\n",
       "<table border=\"1\" class=\"dataframe\">\n",
       "  <thead>\n",
       "    <tr style=\"text-align: right;\">\n",
       "      <th></th>\n",
       "      <th>OOO</th>\n",
       "      <th>pH</th>\n",
       "      <th>ph槽ORP</th>\n",
       "      <th>NaS_ORP</th>\n",
       "      <th>NaS</th>\n",
       "      <th>FeSO4</th>\n",
       "    </tr>\n",
       "    <tr>\n",
       "      <th>時間</th>\n",
       "      <th></th>\n",
       "      <th></th>\n",
       "      <th></th>\n",
       "      <th></th>\n",
       "      <th></th>\n",
       "      <th></th>\n",
       "    </tr>\n",
       "  </thead>\n",
       "  <tbody>\n",
       "    <tr>\n",
       "      <th>2021-06-01 18:10:00.000</th>\n",
       "      <td>8017.94</td>\n",
       "      <td>7.49</td>\n",
       "      <td>7.52</td>\n",
       "      <td>-476</td>\n",
       "      <td>9.595294</td>\n",
       "      <td>96.984951</td>\n",
       "    </tr>\n",
       "    <tr>\n",
       "      <th>2021-06-01 18:38:32.781</th>\n",
       "      <td>7769.10</td>\n",
       "      <td>7.49</td>\n",
       "      <td>7.52</td>\n",
       "      <td>-476</td>\n",
       "      <td>9.609958</td>\n",
       "      <td>97.096244</td>\n",
       "    </tr>\n",
       "    <tr>\n",
       "      <th>2021-06-01 18:38:36.790</th>\n",
       "      <td>7769.10</td>\n",
       "      <td>7.48</td>\n",
       "      <td>7.52</td>\n",
       "      <td>-476</td>\n",
       "      <td>9.620155</td>\n",
       "      <td>97.090278</td>\n",
       "    </tr>\n",
       "    <tr>\n",
       "      <th>2021-06-01 18:59:10.120</th>\n",
       "      <td>7832.75</td>\n",
       "      <td>7.48</td>\n",
       "      <td>7.52</td>\n",
       "      <td>-476</td>\n",
       "      <td>9.630800</td>\n",
       "      <td>97.170735</td>\n",
       "    </tr>\n",
       "    <tr>\n",
       "      <th>2021-06-01 18:59:12.117</th>\n",
       "      <td>7838.54</td>\n",
       "      <td>7.48</td>\n",
       "      <td>7.52</td>\n",
       "      <td>-476</td>\n",
       "      <td>9.630817</td>\n",
       "      <td>97.170866</td>\n",
       "    </tr>\n",
       "    <tr>\n",
       "      <th>...</th>\n",
       "      <td>...</td>\n",
       "      <td>...</td>\n",
       "      <td>...</td>\n",
       "      <td>...</td>\n",
       "      <td>...</td>\n",
       "      <td>...</td>\n",
       "    </tr>\n",
       "    <tr>\n",
       "      <th>2021-06-30 19:50:20.596</th>\n",
       "      <td>7624.42</td>\n",
       "      <td>7.96</td>\n",
       "      <td>5.21</td>\n",
       "      <td>-156</td>\n",
       "      <td>10.958985</td>\n",
       "      <td>117.887106</td>\n",
       "    </tr>\n",
       "    <tr>\n",
       "      <th>2021-06-30 20:23:47.670</th>\n",
       "      <td>7960.07</td>\n",
       "      <td>7.96</td>\n",
       "      <td>5.21</td>\n",
       "      <td>-156</td>\n",
       "      <td>10.857909</td>\n",
       "      <td>116.696064</td>\n",
       "    </tr>\n",
       "    <tr>\n",
       "      <th>2021-06-30 20:25:01.661</th>\n",
       "      <td>7960.07</td>\n",
       "      <td>7.96</td>\n",
       "      <td>5.21</td>\n",
       "      <td>-24</td>\n",
       "      <td>10.854213</td>\n",
       "      <td>116.652627</td>\n",
       "    </tr>\n",
       "    <tr>\n",
       "      <th>2021-06-30 21:30:00.000</th>\n",
       "      <td>7960.07</td>\n",
       "      <td>7.96</td>\n",
       "      <td>5.21</td>\n",
       "      <td>-24</td>\n",
       "      <td>10.662569</td>\n",
       "      <td>114.412608</td>\n",
       "    </tr>\n",
       "    <tr>\n",
       "      <th>2021-06-30 23:00:00.000</th>\n",
       "      <td>7960.07</td>\n",
       "      <td>7.96</td>\n",
       "      <td>5.21</td>\n",
       "      <td>-24</td>\n",
       "      <td>10.993587</td>\n",
       "      <td>118.296328</td>\n",
       "    </tr>\n",
       "  </tbody>\n",
       "</table>\n",
       "<p>1370 rows × 6 columns</p>\n",
       "</div>"
      ],
      "text/plain": [
       "                             OOO    pH  ph槽ORP  NaS_ORP        NaS       FeSO4\n",
       "時間                                                                            \n",
       "2021-06-01 18:10:00.000  8017.94  7.49    7.52     -476   9.595294   96.984951\n",
       "2021-06-01 18:38:32.781  7769.10  7.49    7.52     -476   9.609958   97.096244\n",
       "2021-06-01 18:38:36.790  7769.10  7.48    7.52     -476   9.620155   97.090278\n",
       "2021-06-01 18:59:10.120  7832.75  7.48    7.52     -476   9.630800   97.170735\n",
       "2021-06-01 18:59:12.117  7838.54  7.48    7.52     -476   9.630817   97.170866\n",
       "...                          ...   ...     ...      ...        ...         ...\n",
       "2021-06-30 19:50:20.596  7624.42  7.96    5.21     -156  10.958985  117.887106\n",
       "2021-06-30 20:23:47.670  7960.07  7.96    5.21     -156  10.857909  116.696064\n",
       "2021-06-30 20:25:01.661  7960.07  7.96    5.21      -24  10.854213  116.652627\n",
       "2021-06-30 21:30:00.000  7960.07  7.96    5.21      -24  10.662569  114.412608\n",
       "2021-06-30 23:00:00.000  7960.07  7.96    5.21      -24  10.993587  118.296328\n",
       "\n",
       "[1370 rows x 6 columns]"
      ]
     },
     "execution_count": 197,
     "metadata": {},
     "output_type": "execute_result"
    }
   ],
   "source": [
    "X"
   ]
  },
  {
   "cell_type": "code",
   "execution_count": 198,
   "id": "b6ee5299",
   "metadata": {},
   "outputs": [],
   "source": [
    "Xtrain, Xtest, Ytrain, Ytest = train_test_split(X, Y, test_size=0.25, random_state=420)\n",
    "# print(Xtrain.describe().T)\n",
    "\n",
    "ss_x = StandardScaler()\n",
    "Xtrain = ss_x.fit_transform(Xtrain)\n",
    "Xtest = ss_x.transform(Xtest)\n",
    "\n",
    "X = ss_x.transform(X)\n",
    "ss_y = StandardScaler()\n",
    "Ytrain = ss_y.fit_transform(Ytrain.values.reshape(-1, 1))\n",
    "Y = ss_y.fit_transform(Y.values.reshape(-1, 1))\n",
    "Ytest = ss_y.transform(Ytest.values.reshape(-1, 1))\n",
    "\n",
    "\n",
    "Xtrain = np.reshape(Xtrain, (Xtrain.shape[0], Xtrain.shape[1], 1))\n",
    "Xtest = np.reshape(Xtest, (Xtest.shape[0], Xtrain.shape[1], 1))\n",
    "\n",
    "Ytrain = np.reshape(Ytrain, (Ytrain.shape[0], ))\n",
    "Ytest = np.reshape(Ytest, (Ytest.shape[0], ))\n",
    "\n"
   ]
  },
  {
   "cell_type": "code",
   "execution_count": 201,
   "id": "71fde696",
   "metadata": {},
   "outputs": [
    {
     "name": "stdout",
     "output_type": "stream",
     "text": [
      "(1027, 6, 1) (1027,)\n"
     ]
    }
   ],
   "source": [
    "timesteps = 6\n",
    "features = 1\n",
    "print(Xtrain.shape,Ytrain.shape)\n",
    "\n",
    "# Write Keras model LSTM layers and compile the model using SGD\n",
    "model = Sequential()\n",
    "model.add(LSTM(128, activation='relu', input_shape=(timesteps, features)))\n",
    "model.add(Dense(1))"
   ]
  },
  {
   "cell_type": "code",
   "execution_count": 202,
   "id": "feeee93c",
   "metadata": {},
   "outputs": [],
   "source": [
    "from tensorflow.keras import optimizers"
   ]
  },
  {
   "cell_type": "code",
   "execution_count": 203,
   "id": "e8d69419",
   "metadata": {},
   "outputs": [
    {
     "name": "stderr",
     "output_type": "stream",
     "text": [
      "C:\\Users\\2520\\anaconda3\\lib\\site-packages\\keras\\optimizer_v2\\gradient_descent.py:102: UserWarning: The `lr` argument is deprecated, use `learning_rate` instead.\n",
      "  super(SGD, self).__init__(name, **kwargs)\n"
     ]
    }
   ],
   "source": [
    "sgd = optimizers.SGD(lr=0.01, decay=1e-6, momentum=0.9, nesterov=True)\n",
    "model.compile(loss='mean_squared_error', optimizer=sgd)"
   ]
  },
  {
   "cell_type": "code",
   "execution_count": 206,
   "id": "d14ba713",
   "metadata": {},
   "outputs": [
    {
     "name": "stdout",
     "output_type": "stream",
     "text": [
      "Model: \"sequential_23\"\n",
      "_________________________________________________________________\n",
      " Layer (type)                Output Shape              Param #   \n",
      "=================================================================\n",
      " lstm_23 (LSTM)              (None, 128)               66560     \n",
      "                                                                 \n",
      " dense_21 (Dense)            (None, 1)                 129       \n",
      "                                                                 \n",
      "=================================================================\n",
      "Total params: 66,689\n",
      "Trainable params: 66,689\n",
      "Non-trainable params: 0\n",
      "_________________________________________________________________\n",
      "***************************\n",
      "\n",
      "LSTM Model\n",
      "Time taken to train the model:  37.2939555644989 secs.\n",
      "Error: 0.0005899481475353241\n"
     ]
    }
   ],
   "source": [
    "model.summary()\n",
    "total_param = 68737\n",
    "# Use model fit command to train the model\n",
    "t0 = time.time()\n",
    "result_sgd = model.fit(Xtrain, Ytrain, batch_size=4, epochs=50, verbose=0)\n",
    "t1 = time.time()\n",
    "\n",
    "print(\"***************************\")\n",
    "print()\n",
    "print(\"LSTM Model\")\n",
    "print(\"Time taken to train the model: \", t1 - t0, \"secs.\")\n",
    "print(\"Error:\", result_sgd.history['loss'][-1])\n"
   ]
  },
  {
   "cell_type": "code",
   "execution_count": 207,
   "id": "c13b7d93",
   "metadata": {},
   "outputs": [
    {
     "name": "stderr",
     "output_type": "stream",
     "text": [
      "C:\\Users\\2520\\AppData\\Local\\Temp/ipykernel_15036/3367695925.py:1: VisibleDeprecationWarning: Creating an ndarray from ragged nested sequences (which is a list-or-tuple of lists-or-tuples-or ndarrays with different lengths or shapes) is deprecated. If you meant to do this, you must specify 'dtype=object' when creating the ndarray.\n",
      "  model_weights = np.array([model.layers[0].get_weights(), model.layers[1].get_weights()])\n",
      "C:\\Users\\2520\\AppData\\Local\\Temp/ipykernel_15036/3367695925.py:2: VisibleDeprecationWarning: Creating an ndarray from ragged nested sequences (which is a list-or-tuple of lists-or-tuples-or ndarrays with different lengths or shapes) is deprecated. If you meant to do this, you must specify 'dtype=object' when creating the ndarray.\n",
      "  shape = np.array(\n"
     ]
    }
   ],
   "source": [
    "\n",
    "model_weights = np.array([model.layers[0].get_weights(), model.layers[1].get_weights()])\n",
    "shape = np.array(\n",
    "    [model_weights[0][0].shape, model_weights[0][1].shape, model_weights[0][2].shape, model_weights[1][0].shape,\n",
    "     model_weights[1][1].shape])\n",
    "\n",
    "\n",
    "def func(vector_x):\n",
    "    init_index = 0\n",
    "    end_index = 0\n",
    "    end_index += shape[0][0] * shape[0][1]\n",
    "    model_weights[0][0] = vector_x[init_index:end_index].reshape(shape[0])\n",
    "    init_index = end_index\n",
    "    end_index += shape[1][0] * shape[1][1]\n",
    "    model_weights[0][1] = vector_x[init_index:end_index].reshape(shape[1])\n",
    "    init_index = end_index\n",
    "    end_index += shape[2][0]\n",
    "    model_weights[0][2] = vector_x[init_index:end_index]\n",
    "    init_index = end_index\n",
    "    end_index += shape[3][0] * shape[3][1]\n",
    "    model_weights[1][0] = vector_x[init_index:end_index].reshape(shape[3])\n",
    "    init_index = end_index\n",
    "    end_index += shape[4][0]\n",
    "    model_weights[1][1] = vector_x[init_index:end_index]\n",
    "    model.layers[0].set_weights(model_weights[0])\n",
    "    model.layers[1].set_weights(model_weights[1])\n",
    "    pso_predict = model.predict(X)\n",
    "    error = mean_squared_error(Y, pso_predict)\n",
    "    return error"
   ]
  },
  {
   "cell_type": "code",
   "execution_count": 208,
   "id": "923b749d",
   "metadata": {},
   "outputs": [
    {
     "name": "stderr",
     "output_type": "stream",
     "text": [
      "2021-11-30 16:00:06,837 - pyswarms.single.global_best - INFO - Optimize for 120 iters with {'c1': 0.5, 'c2': 0.3, 'w': 0.9}\n",
      "pyswarms.single.global_best:   0%|          |0/120\n"
     ]
    },
    {
     "ename": "ValueError",
     "evalue": "Input 0 of layer \"sequential_23\" is incompatible with the layer: expected shape=(None, 6, 1), found shape=(80, 68737)",
     "output_type": "error",
     "traceback": [
      "\u001b[1;31m---------------------------------------------------------------------------\u001b[0m",
      "\u001b[1;31mValueError\u001b[0m                                Traceback (most recent call last)",
      "\u001b[1;32m~\\AppData\\Local\\Temp/ipykernel_15036/2133597124.py\u001b[0m in \u001b[0;36m<module>\u001b[1;34m\u001b[0m\n\u001b[0;32m     10\u001b[0m                                     options=options)\n\u001b[0;32m     11\u001b[0m \u001b[0mt2\u001b[0m \u001b[1;33m=\u001b[0m \u001b[0mtime\u001b[0m\u001b[1;33m.\u001b[0m\u001b[0mtime\u001b[0m\u001b[1;33m(\u001b[0m\u001b[1;33m)\u001b[0m\u001b[1;33m\u001b[0m\u001b[1;33m\u001b[0m\u001b[0m\n\u001b[1;32m---> 12\u001b[1;33m \u001b[0mresult_pso\u001b[0m \u001b[1;33m=\u001b[0m \u001b[0moptimizer\u001b[0m\u001b[1;33m.\u001b[0m\u001b[0moptimize\u001b[0m\u001b[1;33m(\u001b[0m\u001b[0mmodel\u001b[0m\u001b[1;33m,\u001b[0m \u001b[0miters\u001b[0m\u001b[1;33m=\u001b[0m\u001b[1;36m120\u001b[0m\u001b[1;33m)\u001b[0m\u001b[1;33m\u001b[0m\u001b[1;33m\u001b[0m\u001b[0m\n\u001b[0m\u001b[0;32m     13\u001b[0m \u001b[0mt3\u001b[0m \u001b[1;33m=\u001b[0m \u001b[0mtime\u001b[0m\u001b[1;33m.\u001b[0m\u001b[0mtime\u001b[0m\u001b[1;33m(\u001b[0m\u001b[1;33m)\u001b[0m\u001b[1;33m\u001b[0m\u001b[1;33m\u001b[0m\u001b[0m\n\u001b[0;32m     14\u001b[0m \u001b[1;33m\u001b[0m\u001b[0m\n",
      "\u001b[1;32m~\\anaconda3\\lib\\site-packages\\pyswarms\\single\\global_best.py\u001b[0m in \u001b[0;36moptimize\u001b[1;34m(self, objective_func, iters, n_processes, verbose, **kwargs)\u001b[0m\n\u001b[0;32m    207\u001b[0m             \u001b[1;31m# Compute cost for current position and personal best\u001b[0m\u001b[1;33m\u001b[0m\u001b[1;33m\u001b[0m\u001b[0m\n\u001b[0;32m    208\u001b[0m             \u001b[1;31m# fmt: off\u001b[0m\u001b[1;33m\u001b[0m\u001b[1;33m\u001b[0m\u001b[0m\n\u001b[1;32m--> 209\u001b[1;33m             \u001b[0mself\u001b[0m\u001b[1;33m.\u001b[0m\u001b[0mswarm\u001b[0m\u001b[1;33m.\u001b[0m\u001b[0mcurrent_cost\u001b[0m \u001b[1;33m=\u001b[0m \u001b[0mcompute_objective_function\u001b[0m\u001b[1;33m(\u001b[0m\u001b[0mself\u001b[0m\u001b[1;33m.\u001b[0m\u001b[0mswarm\u001b[0m\u001b[1;33m,\u001b[0m \u001b[0mobjective_func\u001b[0m\u001b[1;33m,\u001b[0m \u001b[0mpool\u001b[0m\u001b[1;33m=\u001b[0m\u001b[0mpool\u001b[0m\u001b[1;33m,\u001b[0m \u001b[1;33m**\u001b[0m\u001b[0mkwargs\u001b[0m\u001b[1;33m)\u001b[0m\u001b[1;33m\u001b[0m\u001b[1;33m\u001b[0m\u001b[0m\n\u001b[0m\u001b[0;32m    210\u001b[0m             \u001b[0mself\u001b[0m\u001b[1;33m.\u001b[0m\u001b[0mswarm\u001b[0m\u001b[1;33m.\u001b[0m\u001b[0mpbest_pos\u001b[0m\u001b[1;33m,\u001b[0m \u001b[0mself\u001b[0m\u001b[1;33m.\u001b[0m\u001b[0mswarm\u001b[0m\u001b[1;33m.\u001b[0m\u001b[0mpbest_cost\u001b[0m \u001b[1;33m=\u001b[0m \u001b[0mcompute_pbest\u001b[0m\u001b[1;33m(\u001b[0m\u001b[0mself\u001b[0m\u001b[1;33m.\u001b[0m\u001b[0mswarm\u001b[0m\u001b[1;33m)\u001b[0m\u001b[1;33m\u001b[0m\u001b[1;33m\u001b[0m\u001b[0m\n\u001b[0;32m    211\u001b[0m             \u001b[1;31m# Set best_cost_yet_found for ftol\u001b[0m\u001b[1;33m\u001b[0m\u001b[1;33m\u001b[0m\u001b[0m\n",
      "\u001b[1;32m~\\anaconda3\\lib\\site-packages\\pyswarms\\backend\\operators.py\u001b[0m in \u001b[0;36mcompute_objective_function\u001b[1;34m(swarm, objective_func, pool, **kwargs)\u001b[0m\n\u001b[0;32m    237\u001b[0m     \"\"\"\n\u001b[0;32m    238\u001b[0m     \u001b[1;32mif\u001b[0m \u001b[0mpool\u001b[0m \u001b[1;32mis\u001b[0m \u001b[1;32mNone\u001b[0m\u001b[1;33m:\u001b[0m\u001b[1;33m\u001b[0m\u001b[1;33m\u001b[0m\u001b[0m\n\u001b[1;32m--> 239\u001b[1;33m         \u001b[1;32mreturn\u001b[0m \u001b[0mobjective_func\u001b[0m\u001b[1;33m(\u001b[0m\u001b[0mswarm\u001b[0m\u001b[1;33m.\u001b[0m\u001b[0mposition\u001b[0m\u001b[1;33m,\u001b[0m \u001b[1;33m**\u001b[0m\u001b[0mkwargs\u001b[0m\u001b[1;33m)\u001b[0m\u001b[1;33m\u001b[0m\u001b[1;33m\u001b[0m\u001b[0m\n\u001b[0m\u001b[0;32m    240\u001b[0m     \u001b[1;32melse\u001b[0m\u001b[1;33m:\u001b[0m\u001b[1;33m\u001b[0m\u001b[1;33m\u001b[0m\u001b[0m\n\u001b[0;32m    241\u001b[0m         results = pool.map(\n",
      "\u001b[1;32m~\\anaconda3\\lib\\site-packages\\keras\\utils\\traceback_utils.py\u001b[0m in \u001b[0;36merror_handler\u001b[1;34m(*args, **kwargs)\u001b[0m\n\u001b[0;32m     65\u001b[0m     \u001b[1;32mexcept\u001b[0m \u001b[0mException\u001b[0m \u001b[1;32mas\u001b[0m \u001b[0me\u001b[0m\u001b[1;33m:\u001b[0m  \u001b[1;31m# pylint: disable=broad-except\u001b[0m\u001b[1;33m\u001b[0m\u001b[1;33m\u001b[0m\u001b[0m\n\u001b[0;32m     66\u001b[0m       \u001b[0mfiltered_tb\u001b[0m \u001b[1;33m=\u001b[0m \u001b[0m_process_traceback_frames\u001b[0m\u001b[1;33m(\u001b[0m\u001b[0me\u001b[0m\u001b[1;33m.\u001b[0m\u001b[0m__traceback__\u001b[0m\u001b[1;33m)\u001b[0m\u001b[1;33m\u001b[0m\u001b[1;33m\u001b[0m\u001b[0m\n\u001b[1;32m---> 67\u001b[1;33m       \u001b[1;32mraise\u001b[0m \u001b[0me\u001b[0m\u001b[1;33m.\u001b[0m\u001b[0mwith_traceback\u001b[0m\u001b[1;33m(\u001b[0m\u001b[0mfiltered_tb\u001b[0m\u001b[1;33m)\u001b[0m \u001b[1;32mfrom\u001b[0m \u001b[1;32mNone\u001b[0m\u001b[1;33m\u001b[0m\u001b[1;33m\u001b[0m\u001b[0m\n\u001b[0m\u001b[0;32m     68\u001b[0m     \u001b[1;32mfinally\u001b[0m\u001b[1;33m:\u001b[0m\u001b[1;33m\u001b[0m\u001b[1;33m\u001b[0m\u001b[0m\n\u001b[0;32m     69\u001b[0m       \u001b[1;32mdel\u001b[0m \u001b[0mfiltered_tb\u001b[0m\u001b[1;33m\u001b[0m\u001b[1;33m\u001b[0m\u001b[0m\n",
      "\u001b[1;32m~\\anaconda3\\lib\\site-packages\\keras\\engine\\input_spec.py\u001b[0m in \u001b[0;36massert_input_compatibility\u001b[1;34m(input_spec, inputs, layer_name)\u001b[0m\n\u001b[0;32m    261\u001b[0m         \u001b[1;32mif\u001b[0m \u001b[0mspec_dim\u001b[0m \u001b[1;32mis\u001b[0m \u001b[1;32mnot\u001b[0m \u001b[1;32mNone\u001b[0m \u001b[1;32mand\u001b[0m \u001b[0mdim\u001b[0m \u001b[1;32mis\u001b[0m \u001b[1;32mnot\u001b[0m \u001b[1;32mNone\u001b[0m\u001b[1;33m:\u001b[0m\u001b[1;33m\u001b[0m\u001b[1;33m\u001b[0m\u001b[0m\n\u001b[0;32m    262\u001b[0m           \u001b[1;32mif\u001b[0m \u001b[0mspec_dim\u001b[0m \u001b[1;33m!=\u001b[0m \u001b[0mdim\u001b[0m\u001b[1;33m:\u001b[0m\u001b[1;33m\u001b[0m\u001b[1;33m\u001b[0m\u001b[0m\n\u001b[1;32m--> 263\u001b[1;33m             raise ValueError(f'Input {input_index} of layer \"{layer_name}\" is '\n\u001b[0m\u001b[0;32m    264\u001b[0m                              \u001b[1;34m'incompatible with the layer: '\u001b[0m\u001b[1;33m\u001b[0m\u001b[1;33m\u001b[0m\u001b[0m\n\u001b[0;32m    265\u001b[0m                              \u001b[1;34mf'expected shape={spec.shape}, '\u001b[0m\u001b[1;33m\u001b[0m\u001b[1;33m\u001b[0m\u001b[0m\n",
      "\u001b[1;31mValueError\u001b[0m: Input 0 of layer \"sequential_23\" is incompatible with the layer: expected shape=(None, 6, 1), found shape=(80, 68737)"
     ]
    }
   ],
   "source": [
    "def swarm_func(x):\n",
    "    n_particles = x.shape[0]\n",
    "    j = [func(x[i]) for i in range(n_particles)]\n",
    "    return np.array(j)\n",
    "\n",
    "\n",
    "# initialization\n",
    "options = {'c1': 0.5, 'c2': 0.3, 'w': 0.9}\n",
    "optimizer = ps.single.GlobalBestPSO(n_particles=80, dimensions=total_param,\n",
    "                                    options=options)\n",
    "t2 = time.time()\n",
    "result_pso = optimizer.optimize(model, iters=120)\n",
    "t3 = time.time()\n",
    "\n",
    "print(\"Partical Swarm Optimization\")\n",
    "print(\"Time taken to train the model: \", t3 - t2, \"secs.\")\n",
    "print(\"Error:\", result_pso[0])\n",
    "print()\n",
    "print(\"***************************\")\n",
    "\n",
    "print()\n",
    "plot_cost_history(optimizer.cost_history)"
   ]
  },
  {
   "cell_type": "code",
   "execution_count": 45,
   "id": "0b17f632",
   "metadata": {},
   "outputs": [],
   "source": [
    "plt.show()"
   ]
  },
  {
   "cell_type": "code",
   "execution_count": 46,
   "id": "67217dad",
   "metadata": {},
   "outputs": [],
   "source": [
    "model = Sequential()\n",
    "model.add(LSTM(128, activation='relu', input_shape=(timesteps, features)))\n",
    "model.add(Dense(1))\n",
    "model.compile(loss='mean_squared_error', optimizer='adam')"
   ]
  },
  {
   "cell_type": "code",
   "execution_count": 47,
   "id": "6b611f5c",
   "metadata": {},
   "outputs": [
    {
     "data": {
      "text/plain": [
       "<keras.engine.sequential.Sequential at 0x2cbbce03a90>"
      ]
     },
     "execution_count": 47,
     "metadata": {},
     "output_type": "execute_result"
    }
   ],
   "source": [
    "model"
   ]
  },
  {
   "cell_type": "code",
   "execution_count": null,
   "id": "14b282fd",
   "metadata": {},
   "outputs": [],
   "source": []
  }
 ],
 "metadata": {
  "kernelspec": {
   "display_name": "Python 3 (ipykernel)",
   "language": "python",
   "name": "python3"
  },
  "language_info": {
   "codemirror_mode": {
    "name": "ipython",
    "version": 3
   },
   "file_extension": ".py",
   "mimetype": "text/x-python",
   "name": "python",
   "nbconvert_exporter": "python",
   "pygments_lexer": "ipython3",
   "version": "3.9.7"
  }
 },
 "nbformat": 4,
 "nbformat_minor": 5
}
